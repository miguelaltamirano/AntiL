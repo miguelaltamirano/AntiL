{
 "cells": [
  {
   "cell_type": "code",
   "execution_count": null,
   "metadata": {},
   "outputs": [],
   "source": [
    "import time, serial\n",
    "\n",
    "import sys\n",
    "import urx\n",
    "import numpy as np\n",
    "import keyboard\n",
    "import json, math\n",
    "import numpy as np\n",
    "from numpy.linalg import inv\n",
    "import os\n",
    "from scipy import stats\n",
    "import  socket\n",
    "from IPython.display import clear_output\n",
    "from _thread import *\n",
    "import threading\n",
    "\n",
    "\n",
    "\n",
    "s = socket.socket()\n",
    "print('socket created ')\n",
    "port = 1234\n",
    "s.bind(('127.0.0.1', port)) #bind port with ip address\n",
    "print('socket binded to port ')\n",
    "s.listen(5)#listening for connection\n",
    "print('socket listensing ... ')\n",
    "\n",
    "c, addr = s.accept() #when port connected\n",
    "print(\"\\ngot connection from \", addr)\n",
    "\n",
    "while True :\n",
    "        de=c.recv(1024).decode(\"utf-8\") #Collect data from port and decode into  string\n",
    "        print(de)\n"
   ]
  },
  {
   "cell_type": "code",
   "execution_count": null,
   "metadata": {},
   "outputs": [],
   "source": []
  }
 ],
 "metadata": {
  "kernelspec": {
   "display_name": "Python 3",
   "language": "python",
   "name": "python3"
  },
  "language_info": {
   "codemirror_mode": {
    "name": "ipython",
    "version": 3
   },
   "file_extension": ".py",
   "mimetype": "text/x-python",
   "name": "python",
   "nbconvert_exporter": "python",
   "pygments_lexer": "ipython3",
   "version": "3.7.1"
  }
 },
 "nbformat": 4,
 "nbformat_minor": 4
}
